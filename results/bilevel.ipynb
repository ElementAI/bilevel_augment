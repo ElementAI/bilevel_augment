{
 "cells": [
  {
   "cell_type": "code",
   "execution_count": 10,
   "metadata": {},
   "outputs": [
    {
     "name": "stderr",
     "output_type": "stream",
     "text": [
      "100%|██████████| 7/7 [00:00<00:00, 842.30it/s]\n"
     ]
    },
    {
     "data": {
      "text/plain": [
       "'Selected 2/6 experiments using \"filterby_list\"'"
      ]
     },
     "metadata": {},
     "output_type": "display_data"
    },
    {
     "data": {
      "application/vnd.jupyter.widget-view+json": {
       "model_id": "1ecdcdb7aa9043df9c26755452c84606",
       "version_major": 2,
       "version_minor": 0
      },
      "text/plain": [
       "VBox(children=(Label(value='Select exp_group', layout=Layout(width='200px')), HBox(children=(Dropdown(layout=L…"
      ]
     },
     "metadata": {},
     "output_type": "display_data"
    },
    {
     "data": {
      "application/javascript": [
       "\n",
       "        require.config({\n",
       "            paths: {\n",
       "                DT: '//cdn.datatables.net/1.10.19/js/jquery.dataTables.min',\n",
       "            }\n",
       "        });\n",
       "        $('head').append('<link rel=\"stylesheet\" type=\"text/css\" href=\"//cdn.datatables.net/1.10.19/css/jquery.dataTables.min.css\">');\n",
       "    "
      ],
      "text/plain": [
       "<IPython.core.display.Javascript object>"
      ]
     },
     "metadata": {},
     "output_type": "display_data"
    },
    {
     "data": {
      "application/vnd.jupyter.widget-view+json": {
       "model_id": "9f06ef6140ba46268bfdcb02fd49f807",
       "version_major": 2,
       "version_minor": 0
      },
      "text/plain": [
       "Output()"
      ]
     },
     "metadata": {},
     "output_type": "display_data"
    },
    {
     "data": {
      "text/html": [
       "<style>.container { width:100% !important; }</style>"
      ],
      "text/plain": [
       "<IPython.core.display.HTML object>"
      ]
     },
     "metadata": {},
     "output_type": "display_data"
    },
    {
     "data": {
      "text/html": [
       "\n",
       "        <style>\n",
       "            .output_scroll {\n",
       "                height: unset !important;\n",
       "                border-radius: unset !important;\n",
       "                -webkit-box-shadow: unset !important;\n",
       "                box-shadow: unset !important;\n",
       "            }\n",
       "        </style>\n",
       "        "
      ],
      "text/plain": [
       "<IPython.core.display.HTML object>"
      ]
     },
     "metadata": {},
     "output_type": "display_data"
    },
    {
     "data": {
      "text/plain": [
       "<haven.haven_jupyter.DashboardManager at 0x7fab45a67590>"
      ]
     },
     "execution_count": 10,
     "metadata": {},
     "output_type": "execute_result"
    }
   ],
   "source": [
    "from haven import haven_jupyter as hj\n",
    "from haven import haven_results as hr\n",
    "from haven import haven_utils as hu\n",
    "\n",
    "# path to where the experiments got saved\n",
    "savedir_base = '/mnt/results/toolkit/bilevel_augment'\n",
    "exp_list = None\n",
    "\n",
    "# exp_list = hu.load_py(<exp_config_name>).EXP_GROUPS[<exp_group>]\n",
    "# get experiments\n",
    "rm = hr.ResultManager(exp_list=exp_list, \n",
    "                      savedir_base=savedir_base, \n",
    "                      verbose=0\n",
    "                     )\n",
    "y_metrics = ['test_acc']\n",
    "bar_agg = 'max'\n",
    "mode = 'bar'\n",
    "legend_list = ['model.netA.name']\n",
    "title_list = 'dataset.name'\n",
    "legend_format = 'Augmentation Netwok: {}'\n",
    "filterby_list = {'dataset':{'name':'cifar10'}, 'model':{'netC':{'name':'resnet18_meta_2'}}}\n",
    "# launch dashboard\n",
    "hj.get_dashboard(rm, vars(), wide_display=True)"
   ]
  },
  {
   "cell_type": "code",
   "execution_count": null,
   "metadata": {},
   "outputs": [
    {
     "name": "stdout",
     "output_type": "stream",
     "text": [
      "> \u001b[0;32m/mnt/home/.local/lib/python3.7/site-packages/haven/haven_jupyter/utils_tables.py\u001b[0m(83)\u001b[0;36mon_job_status_clicked\u001b[0;34m()\u001b[0m\n",
      "\u001b[0;32m     81 \u001b[0;31m            table_dict = db.rm.get_job_summary(verbose=db.rm.verbose,\n",
      "\u001b[0m\u001b[0;32m     82 \u001b[0;31m                                               add_prefix=True)\n",
      "\u001b[0m\u001b[0;32m---> 83 \u001b[0;31m            \u001b[0;32mif\u001b[0m \u001b[0;34m\"exp_dict\"\u001b[0m \u001b[0;32min\u001b[0m \u001b[0mtable_dict\u001b[0m\u001b[0;34m[\u001b[0m\u001b[0;34m'table'\u001b[0m\u001b[0;34m]\u001b[0m\u001b[0;34m.\u001b[0m\u001b[0mcolumns\u001b[0m\u001b[0;34m:\u001b[0m\u001b[0;34m\u001b[0m\u001b[0;34m\u001b[0m\u001b[0m\n",
      "\u001b[0m\u001b[0;32m     84 \u001b[0;31m                \u001b[0;32mdel\u001b[0m \u001b[0mtable_dict\u001b[0m\u001b[0;34m[\u001b[0m\u001b[0;34m'table'\u001b[0m\u001b[0;34m]\u001b[0m\u001b[0;34m[\u001b[0m\u001b[0;34m'exp_dict'\u001b[0m\u001b[0;34m]\u001b[0m\u001b[0;34m\u001b[0m\u001b[0;34m\u001b[0m\u001b[0m\n",
      "\u001b[0m\u001b[0;32m     85 \u001b[0;31m\u001b[0;34m\u001b[0m\u001b[0m\n",
      "\u001b[0m\n",
      "ipdb> table_dict\n",
      "[{'exp_dict': {'batch': {'factor': 1, 'size': 128}, 'dataset': {'colorjitter': False, 'name': 'cifar10', 'transform_lvl': 1.5, 'val_transform': 'identity'}, 'dataset_size': {'test': None, 'train': None}, 'fixedSeed': 6442, 'mixTrainVal': True, 'model': {'name': 'blvl', 'netA': None, 'netC': {'RNDO': 0.3, 'RNDepth': 28, 'RNWidth': 10, 'name': 'resnet18_meta', 'opt': {'lr': 0.1, 'momentum': 0.9, 'name': 'sgd', 'sched': True, 'weight_decay': 0.0005}}}, 'n_inner_iter': 1, 'niter': 201, 'predParams': None, 'testTimeDA': 0, 'valratio': 0.2}, 'exp_id': 'e089ef69220de1586aa51357c90b4218', 'job_id': '1c226aff-65f0-40c3-a6fb-07b7abea1b70', 'job_state': 'SUCCEEDED', 'started_at': '12:55 PM (Jul 13)', 'restarts': 1, 'command': 'python trainval.py -ei e089ef69220de1586aa51357c90b4218 -sb /mnt/results/toolkit/bilevel_augment -d /mnt/datasets --ngpu 1   --num_workers 0 1>/mnt/results/toolkit/bilevel_augment/e089ef69220de1586aa51357c90b4218/logs.txt 2>/mnt/results/toolkit/bilevel_augment/e089ef69220de1586aa51357c90b4218/err.txt', 'logs': ['196    196     81.10      98.00  ...    0.001583   70.372227   0.0008\\n', '197    197     81.09      98.01  ...    0.001586   69.226916   0.0008\\n', '198    198     81.12      97.97  ...    0.001578   69.098910   0.0008\\n', '199    199     81.09      98.02  ...    0.001584   69.329319   0.0008\\n', '200    200     81.04      98.02  ...    0.001568   73.323339   0.0008\\n', '\\n', '[5 rows x 8 columns] \\n', '\\n', 'Checkpoint Saved: /mnt/results/toolkit/bilevel_augment/e089ef69220de1586aa51357c90b4218\\n', 'experiment completed\\n']}, {'exp_dict': {'batch': {'factor': 1, 'size': 128}, 'dataset': {'colorjitter': False, 'name': 'cifar10', 'transform_lvl': 1.5, 'val_transform': 'identity'}, 'dataset_size': {'test': None, 'train': None}, 'fixedSeed': 6442, 'mixTrainVal': True, 'model': {'name': 'blvl', 'netA': {'factor': 1, 'name': 'small_affine', 'opt': {'lr': 0.2, 'momentum': 0.9, 'name': 'sgd', 'sched': False, 'weight_decay': 0.01}, 'slope_annealing': True, 'transform': 'affine'}, 'netC': {'RNDO': 0.3, 'RNDepth': 28, 'RNWidth': 10, 'name': 'resnet18_meta', 'opt': {'lr': 0.1, 'momentum': 0.9, 'name': 'sgd', 'sched': True, 'weight_decay': 0.0005}}}, 'n_inner_iter': 1, 'niter': 201, 'predParams': None, 'testTimeDA': 0, 'valratio': 0.2}, 'exp_id': 'a95b91b21e27f86499a141689df252c1', 'job_id': 'cae293fb-2e1a-4ccb-8c31-963e1403d023', 'job_state': 'SUCCEEDED', 'started_at': '12:55 PM (Jul 13)', 'restarts': 1, 'command': 'python trainval.py -ei a95b91b21e27f86499a141689df252c1 -sb /mnt/results/toolkit/bilevel_augment -d /mnt/datasets --ngpu 1   --num_workers 0 1>/mnt/results/toolkit/bilevel_augment/a95b91b21e27f86499a141689df252c1/logs.txt 2>/mnt/results/toolkit/bilevel_augment/a95b91b21e27f86499a141689df252c1/err.txt', 'logs': ['196    196     77.45      98.43  ...  0.091603  0.054019  0.151925\\n', '197    197     82.09      98.78  ...  0.086882  0.077647  0.092067\\n', '198    198     81.57      98.72  ...  0.081301  0.052653  0.127758\\n', '199    199     82.77      98.87  ...  0.044584  0.070842  0.095209\\n', '200    200     81.59      98.83  ...  0.045470  0.045979  0.166729\\n', '\\n', '[5 rows x 20 columns] \\n', '\\n', 'Checkpoint Saved: /mnt/results/toolkit/bilevel_augment/a95b91b21e27f86499a141689df252c1\\n', 'experiment completed\\n']}, {'exp_dict': {'batch': {'factor': 1, 'size': 128}, 'dataset': {'colorjitter': False, 'name': 'cifar10', 'transform_lvl': 1.5, 'val_transform': 'identity'}, 'dataset_size': {'test': None, 'train': None}, 'fixedSeed': 6442, 'mixTrainVal': True, 'model': {'name': 'blvl', 'netA': {'factor': 1, 'name': 'small_affine', 'opt': {'lr': 0.2, 'momentum': 0.9, 'name': 'sgd', 'sched': False, 'weight_decay': 0.01}, 'slope_annealing': True, 'transform': 'affine'}, 'netC': {'RNDO': 0.3, 'RNDepth': 28, 'RNWidth': 10, 'name': 'resnet18_meta_old', 'opt': {'lr': 0.1, 'momentum': 0.9, 'name': 'sgd', 'sched': True, 'weight_decay': 0.0005}}}, 'n_inner_iter': 1, 'niter': 201, 'predParams': None, 'testTimeDA': 0, 'valratio': 0.2}, 'exp_id': '3c08d9c2962f0d3999a723efd5d74643', 'job_id': 'e59d5c6a-94b4-46a6-ab34-d2a84d105ac1', 'job_state': 'SUCCEEDED', 'started_at': '03:49 PM (Jul 13)', 'restarts': 1, 'command': 'python trainval.py -ei 3c08d9c2962f0d3999a723efd5d74643 -sb /mnt/results/toolkit/bilevel_augment -d /mnt/datasets --ngpu 1   --num_workers 0 1>/mnt/results/toolkit/bilevel_augment/3c08d9c2962f0d3999a723efd5d74643/logs.txt 2>/mnt/results/toolkit/bilevel_augment/3c08d9c2962f0d3999a723efd5d74643/err.txt', 'logs': ['196    196     94.19      99.88  ...  0.001276  0.002811  0.002622\\n', '197    197     94.22      99.88  ...  0.001409  0.002666  0.001514\\n', '198    198     94.13      99.88  ...  0.001112  0.002564  0.003119\\n', '199    199     94.23      99.88  ...  0.001450  0.002266  0.004492\\n', '200    200     94.24      99.88  ...  0.001411  0.002264  0.002271\\n', '\\n', '[5 rows x 20 columns] \\n', '\\n', 'Checkpoint Saved: /mnt/results/toolkit/bilevel_augment/3c08d9c2962f0d3999a723efd5d74643\\n', 'experiment completed\\n']}, {'exp_dict': {'batch': {'factor': 1, 'size': 128}, 'dataset': {'colorjitter': False, 'name': 'cifar10', 'transform_lvl': 1.5, 'val_transform': 'identity'}, 'dataset_size': {'test': None, 'train': None}, 'fixedSeed': 6442, 'mixTrainVal': True, 'model': {'name': 'blvl', 'netA': None, 'netC': {'RNDO': 0.3, 'RNDepth': 28, 'RNWidth': 10, 'name': 'resnet18_meta_old', 'opt': {'lr': 0.1, 'momentum': 0.9, 'name': 'sgd', 'sched': True, 'weight_decay': 0.0005}}}, 'n_inner_iter': 1, 'niter': 201, 'predParams': None, 'testTimeDA': 0, 'valratio': 0.2}, 'exp_id': '118d300b7439c0568c274117cc92b9a6', 'job_id': '706809a8-4390-4026-8a30-047bcd9f2d8a', 'job_state': 'SUCCEEDED', 'started_at': '03:49 PM (Jul 13)', 'restarts': 1, 'command': 'python trainval.py -ei 118d300b7439c0568c274117cc92b9a6 -sb /mnt/results/toolkit/bilevel_augment -d /mnt/datasets --ngpu 1   --num_workers 0 1>/mnt/results/toolkit/bilevel_augment/118d300b7439c0568c274117cc92b9a6/logs.txt 2>/mnt/results/toolkit/bilevel_augment/118d300b7439c0568c274117cc92b9a6/err.txt', 'logs': ['196    196     89.23      99.56  ...    0.001720   89.507011   0.0008\\n', '197    197     89.26      99.57  ...    0.001719   88.408186   0.0008\\n', '198    198     89.26      99.56  ...    0.001714   88.922895   0.0008\\n', '199    199     89.25      99.57  ...    0.001721   89.432358   0.0008\\n', '200    200     89.23      99.57  ...    0.001722   88.888488   0.0008\\n', '\\n', '[5 rows x 8 columns] \\n', '\\n', 'Checkpoint Saved: /mnt/results/toolkit/bilevel_augment/118d300b7439c0568c274117cc92b9a6\\n', 'experiment completed\\n']}, {'exp_dict': {'batch': {'factor': 1, 'size': 128}, 'dataset': {'colorjitter': False, 'name': 'cifar10', 'transform_lvl': 1.5, 'val_transform': 'identity'}, 'dataset_size': {'test': None, 'train': None}, 'fixedSeed': 6442, 'mixTrainVal': True, 'model': {'name': 'blvl', 'netA': None, 'netC': {'name': 'resnet18_meta_2', 'opt': {'lr': 0.1, 'momentum': 0.9, 'name': 'sgd', 'sched': True, 'weight_decay': 0.0005}}}, 'n_inner_iter': 1, 'niter': 201, 'predParams': None, 'testTimeDA': 0, 'valratio': 0.2}, 'exp_id': 'a4587b62a6e0cc65d0b6c3ded6882987', 'job_id': '201c1e09-cb19-4135-bd1c-710298da775e', 'job_state': 'SUCCEEDED', 'started_at': '08:40 PM (Jul 20)', 'restarts': 1, 'command': 'python trainval.py -ei a4587b62a6e0cc65d0b6c3ded6882987 -sb /mnt/results/toolkit/bilevel_augment -d /mnt/datasets --ngpu 1   --num_workers 0 1>/mnt/results/toolkit/bilevel_augment/a4587b62a6e0cc65d0b6c3ded6882987/logs.txt 2>/mnt/results/toolkit/bilevel_augment/a4587b62a6e0cc65d0b6c3ded6882987/err.txt', 'logs': ['\\n', '      epoch  test_acc  val_acc  train_acc  train_loss  time_taken  netC_lr\\n', '196    196     89.41    89.24      100.0    0.001707   58.669002   0.0008\\n', '197    197     89.39    89.23      100.0    0.001715   58.652070   0.0008\\n', '198    198     89.37    89.26      100.0    0.001714   58.392093   0.0008\\n', '199    199     89.41    89.22      100.0    0.001711   59.616657   0.0008\\n', '200    200     89.38    89.28      100.0    0.001709   60.003575   0.0008 \\n', '\\n', 'Checkpoint Saved: /mnt/results/toolkit/bilevel_augment/a4587b62a6e0cc65d0b6c3ded6882987\\n', 'experiment completed\\n']}, {'exp_dict': {'batch': {'factor': 1, 'size': 128}, 'dataset': {'colorjitter': False, 'name': 'cifar10', 'transform_lvl': 1.5, 'val_transform': 'identity'}, 'dataset_size': {'test': None, 'train': None}, 'fixedSeed': 6442, 'mixTrainVal': True, 'model': {'name': 'blvl', 'netA': {'factor': 1, 'name': 'small_affine', 'opt': {'lr': 0.2, 'momentum': 0.9, 'name': 'sgd', 'sched': False, 'weight_decay': 0.01}, 'transform': 'affine'}, 'netC': {'name': 'resnet18_meta_2', 'opt': {'lr': 0.1, 'momentum': 0.9, 'name': 'sgd', 'sched': True, 'weight_decay': 0.0005}}}, 'n_inner_iter': 1, 'niter': 201, 'predParams': None, 'testTimeDA': 0, 'valratio': 0.2}, 'exp_id': 'ea5ff818ce48bc74e45ba2382d051841', 'job_id': 'a70d41d7-d96e-4366-94f8-35a796725777', 'job_state': 'RUNNING', 'started_at': '08:40 PM (Jul 20)', 'restarts': 1, 'command': 'python trainval.py -ei ea5ff818ce48bc74e45ba2382d051841 -sb /mnt/results/toolkit/bilevel_augment -d /mnt/datasets --ngpu 1   --num_workers 0 1>/mnt/results/toolkit/bilevel_augment/ea5ff818ce48bc74e45ba2382d051841/logs.txt 2>/mnt/results/toolkit/bilevel_augment/ea5ff818ce48bc74e45ba2382d051841/err.txt', 'logs': ['      epoch  test_acc  val_acc  ...     3_std     4_std     5_std\\n', '148    148     92.98    92.72  ...  0.058199  0.075967  0.148385\\n', '149    149     93.27    92.94  ...  0.080839  0.065554  0.205564\\n', '150    150     92.29    92.28  ...  0.069036  0.091853  0.119939\\n', '151    151     92.91    92.66  ...  0.167139  0.105737  0.247915\\n', '152    152     90.29    89.86  ...  0.100270  0.108026  0.239059\\n', '\\n', '[5 rows x 19 columns] \\n', '\\n', 'Checkpoint Saved: /mnt/results/toolkit/bilevel_augment/ea5ff818ce48bc74e45ba2382d051841\\n']}]\n"
     ]
    },
    {
     "name": "stdout",
     "output_type": "stream",
     "text": [
      "ipdb> summary_list = db.rm.get_job_summary(verbose=db.rm.verbose,                                                add_prefix=True)\n",
      "ipdb> hr.group_list(summary_list, key='job_state', return_count=True)\n",
      "{'SUCCEEDED': 5, 'RUNNING': 1}\n",
      "ipdb> hr.group_list(summary_list, key='job_state', return_count=False)\n",
      "{'SUCCEEDED': [{'exp_dict': {'batch': {'factor': 1, 'size': 128}, 'dataset': {'colorjitter': False, 'name': 'cifar10', 'transform_lvl': 1.5, 'val_transform': 'identity'}, 'dataset_size': {'test': None, 'train': None}, 'fixedSeed': 6442, 'mixTrainVal': True, 'model': {'name': 'blvl', 'netA': None, 'netC': {'RNDO': 0.3, 'RNDepth': 28, 'RNWidth': 10, 'name': 'resnet18_meta', 'opt': {'lr': 0.1, 'momentum': 0.9, 'name': 'sgd', 'sched': True, 'weight_decay': 0.0005}}}, 'n_inner_iter': 1, 'niter': 201, 'predParams': None, 'testTimeDA': 0, 'valratio': 0.2}, 'exp_id': 'e089ef69220de1586aa51357c90b4218', 'job_id': '1c226aff-65f0-40c3-a6fb-07b7abea1b70', 'started_at': '12:55 PM (Jul 13)', 'restarts': 1, 'command': 'python trainval.py -ei e089ef69220de1586aa51357c90b4218 -sb /mnt/results/toolkit/bilevel_augment -d /mnt/datasets --ngpu 1   --num_workers 0 1>/mnt/results/toolkit/bilevel_augment/e089ef69220de1586aa51357c90b4218/logs.txt 2>/mnt/results/toolkit/bilevel_augment/e089ef69220de1586aa51357c90b4218/err.txt', 'logs': ['196    196     81.10      98.00  ...    0.001583   70.372227   0.0008\\n', '197    197     81.09      98.01  ...    0.001586   69.226916   0.0008\\n', '198    198     81.12      97.97  ...    0.001578   69.098910   0.0008\\n', '199    199     81.09      98.02  ...    0.001584   69.329319   0.0008\\n', '200    200     81.04      98.02  ...    0.001568   73.323339   0.0008\\n', '\\n', '[5 rows x 8 columns] \\n', '\\n', 'Checkpoint Saved: /mnt/results/toolkit/bilevel_augment/e089ef69220de1586aa51357c90b4218\\n', 'experiment completed\\n']}, {'exp_dict': {'batch': {'factor': 1, 'size': 128}, 'dataset': {'colorjitter': False, 'name': 'cifar10', 'transform_lvl': 1.5, 'val_transform': 'identity'}, 'dataset_size': {'test': None, 'train': None}, 'fixedSeed': 6442, 'mixTrainVal': True, 'model': {'name': 'blvl', 'netA': {'factor': 1, 'name': 'small_affine', 'opt': {'lr': 0.2, 'momentum': 0.9, 'name': 'sgd', 'sched': False, 'weight_decay': 0.01}, 'slope_annealing': True, 'transform': 'affine'}, 'netC': {'RNDO': 0.3, 'RNDepth': 28, 'RNWidth': 10, 'name': 'resnet18_meta', 'opt': {'lr': 0.1, 'momentum': 0.9, 'name': 'sgd', 'sched': True, 'weight_decay': 0.0005}}}, 'n_inner_iter': 1, 'niter': 201, 'predParams': None, 'testTimeDA': 0, 'valratio': 0.2}, 'exp_id': 'a95b91b21e27f86499a141689df252c1', 'job_id': 'cae293fb-2e1a-4ccb-8c31-963e1403d023', 'started_at': '12:55 PM (Jul 13)', 'restarts': 1, 'command': 'python trainval.py -ei a95b91b21e27f86499a141689df252c1 -sb /mnt/results/toolkit/bilevel_augment -d /mnt/datasets --ngpu 1   --num_workers 0 1>/mnt/results/toolkit/bilevel_augment/a95b91b21e27f86499a141689df252c1/logs.txt 2>/mnt/results/toolkit/bilevel_augment/a95b91b21e27f86499a141689df252c1/err.txt', 'logs': ['196    196     77.45      98.43  ...  0.091603  0.054019  0.151925\\n', '197    197     82.09      98.78  ...  0.086882  0.077647  0.092067\\n', '198    198     81.57      98.72  ...  0.081301  0.052653  0.127758\\n', '199    199     82.77      98.87  ...  0.044584  0.070842  0.095209\\n', '200    200     81.59      98.83  ...  0.045470  0.045979  0.166729\\n', '\\n', '[5 rows x 20 columns] \\n', '\\n', 'Checkpoint Saved: /mnt/results/toolkit/bilevel_augment/a95b91b21e27f86499a141689df252c1\\n', 'experiment completed\\n']}, {'exp_dict': {'batch': {'factor': 1, 'size': 128}, 'dataset': {'colorjitter': False, 'name': 'cifar10', 'transform_lvl': 1.5, 'val_transform': 'identity'}, 'dataset_size': {'test': None, 'train': None}, 'fixedSeed': 6442, 'mixTrainVal': True, 'model': {'name': 'blvl', 'netA': {'factor': 1, 'name': 'small_affine', 'opt': {'lr': 0.2, 'momentum': 0.9, 'name': 'sgd', 'sched': False, 'weight_decay': 0.01}, 'slope_annealing': True, 'transform': 'affine'}, 'netC': {'RNDO': 0.3, 'RNDepth': 28, 'RNWidth': 10, 'name': 'resnet18_meta_old', 'opt': {'lr': 0.1, 'momentum': 0.9, 'name': 'sgd', 'sched': True, 'weight_decay': 0.0005}}}, 'n_inner_iter': 1, 'niter': 201, 'predParams': None, 'testTimeDA': 0, 'valratio': 0.2}, 'exp_id': '3c08d9c2962f0d3999a723efd5d74643', 'job_id': 'e59d5c6a-94b4-46a6-ab34-d2a84d105ac1', 'started_at': '03:49 PM (Jul 13)', 'restarts': 1, 'command': 'python trainval.py -ei 3c08d9c2962f0d3999a723efd5d74643 -sb /mnt/results/toolkit/bilevel_augment -d /mnt/datasets --ngpu 1   --num_workers 0 1>/mnt/results/toolkit/bilevel_augment/3c08d9c2962f0d3999a723efd5d74643/logs.txt 2>/mnt/results/toolkit/bilevel_augment/3c08d9c2962f0d3999a723efd5d74643/err.txt', 'logs': ['196    196     94.19      99.88  ...  0.001276  0.002811  0.002622\\n', '197    197     94.22      99.88  ...  0.001409  0.002666  0.001514\\n', '198    198     94.13      99.88  ...  0.001112  0.002564  0.003119\\n', '199    199     94.23      99.88  ...  0.001450  0.002266  0.004492\\n', '200    200     94.24      99.88  ...  0.001411  0.002264  0.002271\\n', '\\n', '[5 rows x 20 columns] \\n', '\\n', 'Checkpoint Saved: /mnt/results/toolkit/bilevel_augment/3c08d9c2962f0d3999a723efd5d74643\\n', 'experiment completed\\n']}, {'exp_dict': {'batch': {'factor': 1, 'size': 128}, 'dataset': {'colorjitter': False, 'name': 'cifar10', 'transform_lvl': 1.5, 'val_transform': 'identity'}, 'dataset_size': {'test': None, 'train': None}, 'fixedSeed': 6442, 'mixTrainVal': True, 'model': {'name': 'blvl', 'netA': None, 'netC': {'RNDO': 0.3, 'RNDepth': 28, 'RNWidth': 10, 'name': 'resnet18_meta_old', 'opt': {'lr': 0.1, 'momentum': 0.9, 'name': 'sgd', 'sched': True, 'weight_decay': 0.0005}}}, 'n_inner_iter': 1, 'niter': 201, 'predParams': None, 'testTimeDA': 0, 'valratio': 0.2}, 'exp_id': '118d300b7439c0568c274117cc92b9a6', 'job_id': '706809a8-4390-4026-8a30-047bcd9f2d8a', 'started_at': '03:49 PM (Jul 13)', 'restarts': 1, 'command': 'python trainval.py -ei 118d300b7439c0568c274117cc92b9a6 -sb /mnt/results/toolkit/bilevel_augment -d /mnt/datasets --ngpu 1   --num_workers 0 1>/mnt/results/toolkit/bilevel_augment/118d300b7439c0568c274117cc92b9a6/logs.txt 2>/mnt/results/toolkit/bilevel_augment/118d300b7439c0568c274117cc92b9a6/err.txt', 'logs': ['196    196     89.23      99.56  ...    0.001720   89.507011   0.0008\\n', '197    197     89.26      99.57  ...    0.001719   88.408186   0.0008\\n', '198    198     89.26      99.56  ...    0.001714   88.922895   0.0008\\n', '199    199     89.25      99.57  ...    0.001721   89.432358   0.0008\\n', '200    200     89.23      99.57  ...    0.001722   88.888488   0.0008\\n', '\\n', '[5 rows x 8 columns] \\n', '\\n', 'Checkpoint Saved: /mnt/results/toolkit/bilevel_augment/118d300b7439c0568c274117cc92b9a6\\n', 'experiment completed\\n']}, {'exp_dict': {'batch': {'factor': 1, 'size': 128}, 'dataset': {'colorjitter': False, 'name': 'cifar10', 'transform_lvl': 1.5, 'val_transform': 'identity'}, 'dataset_size': {'test': None, 'train': None}, 'fixedSeed': 6442, 'mixTrainVal': True, 'model': {'name': 'blvl', 'netA': None, 'netC': {'name': 'resnet18_meta_2', 'opt': {'lr': 0.1, 'momentum': 0.9, 'name': 'sgd', 'sched': True, 'weight_decay': 0.0005}}}, 'n_inner_iter': 1, 'niter': 201, 'predParams': None, 'testTimeDA': 0, 'valratio': 0.2}, 'exp_id': 'a4587b62a6e0cc65d0b6c3ded6882987', 'job_id': '201c1e09-cb19-4135-bd1c-710298da775e', 'started_at': '08:40 PM (Jul 20)', 'restarts': 1, 'command': 'python trainval.py -ei a4587b62a6e0cc65d0b6c3ded6882987 -sb /mnt/results/toolkit/bilevel_augment -d /mnt/datasets --ngpu 1   --num_workers 0 1>/mnt/results/toolkit/bilevel_augment/a4587b62a6e0cc65d0b6c3ded6882987/logs.txt 2>/mnt/results/toolkit/bilevel_augment/a4587b62a6e0cc65d0b6c3ded6882987/err.txt', 'logs': ['\\n', '      epoch  test_acc  val_acc  train_acc  train_loss  time_taken  netC_lr\\n', '196    196     89.41    89.24      100.0    0.001707   58.669002   0.0008\\n', '197    197     89.39    89.23      100.0    0.001715   58.652070   0.0008\\n', '198    198     89.37    89.26      100.0    0.001714   58.392093   0.0008\\n', '199    199     89.41    89.22      100.0    0.001711   59.616657   0.0008\\n', '200    200     89.38    89.28      100.0    0.001709   60.003575   0.0008 \\n', '\\n', 'Checkpoint Saved: /mnt/results/toolkit/bilevel_augment/a4587b62a6e0cc65d0b6c3ded6882987\\n', 'experiment completed\\n']}], 'RUNNING': [{'exp_dict': {'batch': {'factor': 1, 'size': 128}, 'dataset': {'colorjitter': False, 'name': 'cifar10', 'transform_lvl': 1.5, 'val_transform': 'identity'}, 'dataset_size': {'test': None, 'train': None}, 'fixedSeed': 6442, 'mixTrainVal': True, 'model': {'name': 'blvl', 'netA': {'factor': 1, 'name': 'small_affine', 'opt': {'lr': 0.2, 'momentum': 0.9, 'name': 'sgd', 'sched': False, 'weight_decay': 0.01}, 'transform': 'affine'}, 'netC': {'name': 'resnet18_meta_2', 'opt': {'lr': 0.1, 'momentum': 0.9, 'name': 'sgd', 'sched': True, 'weight_decay': 0.0005}}}, 'n_inner_iter': 1, 'niter': 201, 'predParams': None, 'testTimeDA': 0, 'valratio': 0.2}, 'exp_id': 'ea5ff818ce48bc74e45ba2382d051841', 'job_id': 'a70d41d7-d96e-4366-94f8-35a796725777', 'started_at': '08:40 PM (Jul 20)', 'restarts': 1, 'command': 'python trainval.py -ei ea5ff818ce48bc74e45ba2382d051841 -sb /mnt/results/toolkit/bilevel_augment -d /mnt/datasets --ngpu 1   --num_workers 0 1>/mnt/results/toolkit/bilevel_augment/ea5ff818ce48bc74e45ba2382d051841/logs.txt 2>/mnt/results/toolkit/bilevel_augment/ea5ff818ce48bc74e45ba2382d051841/err.txt', 'logs': ['      epoch  test_acc  val_acc  ...     3_std     4_std     5_std\\n', '149    149     93.27    92.94  ...  0.080839  0.065554  0.205564\\n', '150    150     92.29    92.28  ...  0.069036  0.091853  0.119939\\n', '151    151     92.91    92.66  ...  0.167139  0.105737  0.247915\\n', '152    152     90.29    89.86  ...  0.100270  0.108026  0.239059\\n', '153    153     89.59    89.34  ...  0.184772  0.159622  0.266099\\n', '\\n', '[5 rows x 19 columns] \\n', '\\n', 'Checkpoint Saved: /mnt/results/toolkit/bilevel_augment/ea5ff818ce48bc74e45ba2382d051841\\n']}]}\n"
     ]
    },
    {
     "name": "stdout",
     "output_type": "stream",
     "text": [
      "ipdb> summary_list[0]\n",
      "{'exp_dict': {'batch': {'factor': 1, 'size': 128}, 'dataset': {'colorjitter': False, 'name': 'cifar10', 'transform_lvl': 1.5, 'val_transform': 'identity'}, 'dataset_size': {'test': None, 'train': None}, 'fixedSeed': 6442, 'mixTrainVal': True, 'model': {'name': 'blvl', 'netA': None, 'netC': {'RNDO': 0.3, 'RNDepth': 28, 'RNWidth': 10, 'name': 'resnet18_meta', 'opt': {'lr': 0.1, 'momentum': 0.9, 'name': 'sgd', 'sched': True, 'weight_decay': 0.0005}}}, 'n_inner_iter': 1, 'niter': 201, 'predParams': None, 'testTimeDA': 0, 'valratio': 0.2}, 'exp_id': 'e089ef69220de1586aa51357c90b4218', 'job_id': '1c226aff-65f0-40c3-a6fb-07b7abea1b70', 'job_state': 'SUCCEEDED', 'started_at': '12:55 PM (Jul 13)', 'restarts': 1, 'command': 'python trainval.py -ei e089ef69220de1586aa51357c90b4218 -sb /mnt/results/toolkit/bilevel_augment -d /mnt/datasets --ngpu 1   --num_workers 0 1>/mnt/results/toolkit/bilevel_augment/e089ef69220de1586aa51357c90b4218/logs.txt 2>/mnt/results/toolkit/bilevel_augment/e089ef69220de1586aa51357c90b4218/err.txt', 'logs': ['196    196     81.10      98.00  ...    0.001583   70.372227   0.0008\\n', '197    197     81.09      98.01  ...    0.001586   69.226916   0.0008\\n', '198    198     81.12      97.97  ...    0.001578   69.098910   0.0008\\n', '199    199     81.09      98.02  ...    0.001584   69.329319   0.0008\\n', '200    200     81.04      98.02  ...    0.001568   73.323339   0.0008\\n', '\\n', '[5 rows x 8 columns] \\n', '\\n', 'Checkpoint Saved: /mnt/results/toolkit/bilevel_augment/e089ef69220de1586aa51357c90b4218\\n', 'experiment completed\\n']}\n",
      "ipdb> summary_list['logs']\n",
      "*** TypeError: list indices must be integers or slices, not str\n",
      "ipdb> summary_list[0]['logs']\n",
      "['196    196     81.10      98.00  ...    0.001583   70.372227   0.0008\\n', '197    197     81.09      98.01  ...    0.001586   69.226916   0.0008\\n', '198    198     81.12      97.97  ...    0.001578   69.098910   0.0008\\n', '199    199     81.09      98.02  ...    0.001584   69.329319   0.0008\\n', '200    200     81.04      98.02  ...    0.001568   73.323339   0.0008\\n', '\\n', '[5 rows x 8 columns] \\n', '\\n', 'Checkpoint Saved: /mnt/results/toolkit/bilevel_augment/e089ef69220de1586aa51357c90b4218\\n', 'experiment completed\\n']\n",
      "ipdb> summary_list[0]['job_state']\n",
      "'SUCCEEDED'\n",
      "ipdb> summary_list[0]['job_id']\n",
      "'1c226aff-65f0-40c3-a6fb-07b7abea1b70'\n",
      "--KeyboardInterrupt--\n"
     ]
    }
   ],
   "source": [
    "%debug\n"
   ]
  }
 ],
 "metadata": {
  "kernelspec": {
   "display_name": "Python 3",
   "language": "python",
   "name": "python3"
  },
  "language_info": {
   "codemirror_mode": {
    "name": "ipython",
    "version": 3
   },
   "file_extension": ".py",
   "mimetype": "text/x-python",
   "name": "python",
   "nbconvert_exporter": "python",
   "pygments_lexer": "ipython3",
   "version": "3.7.6"
  }
 },
 "nbformat": 4,
 "nbformat_minor": 4
}
